{
  "nbformat": 4,
  "nbformat_minor": 0,
  "metadata": {
    "colab": {
      "provenance": [],
      "authorship_tag": "ABX9TyOLsrH8dAXn1f75SfYxdzuZ",
      "include_colab_link": true
    },
    "kernelspec": {
      "name": "python3",
      "display_name": "Python 3"
    },
    "language_info": {
      "name": "python"
    }
  },
  "cells": [
    {
      "cell_type": "markdown",
      "metadata": {
        "id": "view-in-github",
        "colab_type": "text"
      },
      "source": [
        "<a href=\"https://colab.research.google.com/github/sylchn/colab_code/blob/main/Reupload_File_with_Google_Colab.ipynb\" target=\"_parent\"><img src=\"https://colab.research.google.com/assets/colab-badge.svg\" alt=\"Open In Colab\"/></a>"
      ]
    },
    {
      "cell_type": "code",
      "source": [
        "from google.colab import drive\n",
        "drive.mount('/content/drive')"
      ],
      "metadata": {
        "id": "5NqD8v9ZB2UP"
      },
      "execution_count": null,
      "outputs": []
    },
    {
      "cell_type": "code",
      "source": [
        "#@title Remote Download Link\n",
        "link_dl = \"\" #@param {type:\"string\"}\n",
        "!wget \"{link_dl}\" -P \"/content/drive/MyDrive/File Download\""
      ],
      "metadata": {
        "cellView": "form",
        "id": "NixTohJyNDSA"
      },
      "execution_count": null,
      "outputs": []
    },
    {
      "cell_type": "code",
      "source": [
        "#@title Download from Google Drive\n",
        "id_file = \"\" #@param {type:\"string\"}\n",
        "!gdown --id \"{id_file}\"\n",
        "%cd \"/content/drive/MyDrive/File Download\""
      ],
      "metadata": {
        "cellView": "form",
        "id": "rZEWMQTXZUpN"
      },
      "execution_count": null,
      "outputs": []
    },
    {
      "cell_type": "code",
      "source": [
        "#@title Unzip File\n",
        "import os\n",
        "\n",
        "unzip_file = \"\" #@param {type:\"string\"}\n",
        "dir_path = \"/content/drive/MyDrive/File Download/Unzip File\"\n",
        "os.makedirs(dir_path, exist_ok=True)\n",
        "\n",
        "status = os.system(f'unzip -o -q \"{unzip_file}\" -d \"{dir_path}\"')\n",
        "\n",
        "if status == 0:\n",
        "    print(\"File berhasil diekstraksi. Harap tunggu beberapa saat.\")\n",
        "else:\n",
        "    print(\"File gagal diekstraksi.\")"
      ],
      "metadata": {
        "cellView": "form",
        "id": "Zz7ro2uRgl76"
      },
      "execution_count": null,
      "outputs": []
    },
    {
      "cell_type": "code",
      "source": [
        "#@title Anonfiles Upload { vertical-output: true, display-mode: \"form\" }\n",
        "drive_path = \"\" #@param {type:\"string\"}\n",
        "!curl -X POST -H \"Content-Type: multipart/form-data\" -F \"file=@{drive_path}\" \"https://api.anonfiles.com/upload\""
      ],
      "metadata": {
        "id": "LCLqtfjzCANG"
      },
      "execution_count": null,
      "outputs": []
    },
    {
      "cell_type": "code",
      "source": [
        "#@title fileChan Upload { vertical-output: true, display-mode: \"form\" }\n",
        "drive_path = \"\" #@param {type:\"string\"}\n",
        "!curl -X POST -H \"Content-Type: multipart/form-data\" -F \"file=@{drive_path}\" \"https://api.filechan.org/upload\""
      ],
      "metadata": {
        "id": "TJdsEYn-Ty0Z"
      },
      "execution_count": null,
      "outputs": []
    },
    {
      "cell_type": "code",
      "source": [
        "#@title LetsUpload Upload { vertical-output: true, display-mode: \"form\" }\n",
        "drive_path = \"\" #@param {type:\"string\"}\n",
        "!curl -X POST -H \"Content-Type: multipart/form-data\" -F \"file=@{drive_path}\" \"https://api.letsupload.cc/upload\""
      ],
      "metadata": {
        "id": "X0IFd6PEUTZ_"
      },
      "execution_count": null,
      "outputs": []
    }
  ]
}
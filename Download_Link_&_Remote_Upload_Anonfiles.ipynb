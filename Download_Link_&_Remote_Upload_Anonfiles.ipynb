{
  "nbformat": 4,
  "nbformat_minor": 0,
  "metadata": {
    "colab": {
      "provenance": [],
      "authorship_tag": "ABX9TyNruvmeFMDrl7Of88lxRKbK",
      "include_colab_link": true
    },
    "kernelspec": {
      "name": "python3",
      "display_name": "Python 3"
    },
    "language_info": {
      "name": "python"
    }
  },
  "cells": [
    {
      "cell_type": "markdown",
      "metadata": {
        "id": "view-in-github",
        "colab_type": "text"
      },
      "source": [
        "<a href=\"https://colab.research.google.com/github/sylchn/colab_code/blob/main/Download_Link_%26_Remote_Upload_Anonfiles.ipynb\" target=\"_parent\"><img src=\"https://colab.research.google.com/assets/colab-badge.svg\" alt=\"Open In Colab\"/></a>"
      ]
    },
    {
      "cell_type": "code",
      "source": [
        "from google.colab import drive\n",
        "drive.mount('/content/drive')"
      ],
      "metadata": {
        "id": "5NqD8v9ZB2UP"
      },
      "execution_count": null,
      "outputs": []
    },
    {
      "cell_type": "code",
      "source": [
        "#@title Remote Download Link\n",
        "link_dl = \"\" #@param {type:\"string\"}\n",
        "!wget \"{link_dl}\" -P \"/content/drive/MyDrive/File Download\""
      ],
      "metadata": {
        "id": "NixTohJyNDSA"
      },
      "execution_count": null,
      "outputs": []
    },
    {
      "cell_type": "code",
      "source": [
        "#@title Anonfiles Upload { vertical-output: true, display-mode: \"form\" }\n",
        "drive_path = \"\" #@param {type:\"string\"}\n",
        "!curl -X POST -H \"Content-Type: multipart/form-data\" -F \"file=@{drive_path}\" \"https://api.anonfiles.com/upload\""
      ],
      "metadata": {
        "id": "LCLqtfjzCANG"
      },
      "execution_count": null,
      "outputs": []
    }
  ]
}